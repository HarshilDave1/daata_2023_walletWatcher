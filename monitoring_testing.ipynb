{
 "cells": [
  {
   "cell_type": "code",
   "execution_count": 1,
   "metadata": {},
   "outputs": [],
   "source": [
    "import time\n",
    "import requests\n",
    "from anomaly_detection_agent import AnomalyDetectionAgent\n",
    "from dotenv import load_dotenv\n",
    "import os\n",
    "load_dotenv()\n",
    "\n",
    "OPEN_API_KEY = os.getenv(\"OPEN_API_KEY\")\n",
    "safe = '0x31d7a5194fe60ac209cf1ce2d539c9a60662ed6b'\n",
    "Covalent_API_KEY = os.getenv(\"Covalent_API_KEY\")\n",
    "chain = 'avalanche-mainnet' # for mainnet\n",
    "\n",
    "def fetch_transactions():\n",
    "    url = f'https://api.covalenthq.com/v1/{chain}/address/{safe}/transactions_v3/?key={Covalent_API_KEY}&with-safe=true&no-logs=true'\n",
    "    r = requests.get(url)\n",
    "    data = r.json()\n",
    "    return data\n",
    "\n",
    "\n",
    "def detect_anomalies(transactions):\n",
    "    anomalies = []\n",
    "    agent = AnomalyDetectionAgent\n",
    "    for tx in transactions['data']['items']:\n",
    "        if agent.detect_anomalies(tx):  \n",
    "            anomalies.append(tx)\n",
    "    return anomalies\n",
    "\n",
    "def send_alert(anomalies):\n",
    "    for anomaly in anomalies:\n",
    "        print(anomaly)\n",
    "\n",
    "def main():\n",
    "    while True:\n",
    "        transactions = fetch_transactions()\n",
    "        anomalies = detect_anomalies(transactions)\n",
    "        if anomalies:\n",
    "            send_alert(anomalies)\n",
    "        time.sleep(60)"
   ]
  },
  {
   "cell_type": "code",
   "execution_count": 2,
   "metadata": {},
   "outputs": [],
   "source": [
    "transactions = fetch_transactions()"
   ]
  },
  {
   "cell_type": "code",
   "execution_count": null,
   "metadata": {},
   "outputs": [],
   "source": []
  },
  {
   "cell_type": "code",
   "execution_count": 4,
   "metadata": {},
   "outputs": [],
   "source": [
    "anomalies = detect_anomalies(transactions)"
   ]
  }
 ],
 "metadata": {
  "kernelspec": {
   "display_name": ".venv",
   "language": "python",
   "name": "python3"
  },
  "language_info": {
   "codemirror_mode": {
    "name": "ipython",
    "version": 3
   },
   "file_extension": ".py",
   "mimetype": "text/x-python",
   "name": "python",
   "nbconvert_exporter": "python",
   "pygments_lexer": "ipython3",
   "version": "3.10.12"
  }
 },
 "nbformat": 4,
 "nbformat_minor": 2
}
