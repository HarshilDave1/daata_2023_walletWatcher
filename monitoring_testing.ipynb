{
 "cells": [
  {
   "cell_type": "code",
   "execution_count": 4,
   "metadata": {},
   "outputs": [],
   "source": [
    "import time\n",
    "import requests\n",
    "from monitoring_agents2 import AnomalyDetectionAgent\n",
    "from dotenv import load_dotenv\n",
    "import os\n",
    "from database import *\n",
    "from monitoring import *\n",
    "# load_dotenv()\n",
    "\n",
    "# OPEN_API_KEY = os.getenv(\"OPEN_API_KEY\")\n",
    "# safe = '0x31d7a5194fe60ac209cf1ce2d539c9a60662ed6b'\n",
    "# Covalent_API_KEY = os.getenv(\"Covalent_API_KEY\")\n",
    "# chain = 'avalanche-mainnet' # for mainnet\n",
    "\n"
   ]
  },
  {
   "cell_type": "code",
   "execution_count": 2,
   "metadata": {},
   "outputs": [],
   "source": [
    "\n",
    "transactions = fetch_old_transactions()"
   ]
  },
  {
   "cell_type": "code",
   "execution_count": null,
   "metadata": {},
   "outputs": [],
   "source": [
    "import sqlite3\n",
    "\n",
    "def view_database():\n",
    "    conn = sqlite3.connect('transactions.db')\n",
    "    cursor = conn.cursor()\n",
    "    \n",
    "    cursor.execute('SELECT * FROM transactions')\n",
    "    rows = cursor.fetchall()\n",
    "    \n",
    "    for row in rows:\n",
    "        print(row)\n",
    "    \n",
    "    conn.close()\n",
    "\n",
    "view_database()"
   ]
  },
  {
   "cell_type": "code",
   "execution_count": 16,
   "metadata": {},
   "outputs": [],
   "source": [
    "transactions = fetch_transactions()\n",
    "# Import analyzerAgent class and pretrained model.\n",
    "\n"
   ]
  },
  {
   "cell_type": "code",
   "execution_count": null,
   "metadata": {},
   "outputs": [],
   "source": [
    "transactions['data']['items']"
   ]
  },
  {
   "cell_type": "code",
   "execution_count": 2,
   "metadata": {},
   "outputs": [
    {
     "data": {
      "text/plain": [
       "[{'tx_hash': '0x6bf1e44641154e1b6d25f8a597d8089465613e46930ea73de9e42c0e7127e15b',\n",
       "  'from_address': '0xfac2ea75663e178745423d4fcdcb8f1489cb3c25',\n",
       "  'to_address': '0xc03f94e49c944c4f118c3f97af7cce8f01df9430',\n",
       "  'value': 0.0,\n",
       "  'gas_spent': 5712515,\n",
       "  'fees_paid': 1.456025647055179e+17,\n",
       "  'block_signed_at': '2022-02-24T10:29:58Z',\n",
       "  'anomaly_score': -0.003680715822668934}]"
      ]
     },
     "execution_count": 2,
     "metadata": {},
     "output_type": "execute_result"
    }
   ],
   "source": [
    "from analyzerAgent import AnalyzerAgent\n",
    "analyzer = AnalyzerAgent()\n",
    "analyzer.load_model()\n",
    "analyzer.predict()"
   ]
  },
  {
   "cell_type": "code",
   "execution_count": 1,
   "metadata": {},
   "outputs": [
    {
     "name": "stdout",
     "output_type": "stream",
     "text": [
      "\u001b[33mUser_Proxy\u001b[0m (to chat_manager):\n",
      "\n",
      "\n",
      "        Detected Anomalies:\n",
      "        {'tx_hash': '0x6bf1e44641154e1b6d25f8a597d8089465613e46930ea73de9e42c0e7127e15b', 'from_address': '0xfac2ea75663e178745423d4fcdcb8f1489cb3c25', 'to_address': '0xc03f94e49c944c4f118c3f97af7cce8f01df9430', 'value': 0.0, 'gas_spent': 5712515, 'fees_paid': 1.456025647055179e+17, 'block_signed_at': '2022-02-24T10:29:58Z', 'anomaly_score': -0.003680715822668934}\n",
      "        \n",
      "        Please check the importance of each anomaly. Transactions with an anomaly score close to -1 are considered highly anomalous and may require immediate attention.\n",
      "        \n",
      "\n",
      "--------------------------------------------------------------------------------\n",
      "\u001b[33mNotifier\u001b[0m (to chat_manager):\n",
      "\n",
      "\u001b[32m***** Suggested function Call: notify_user *****\u001b[0m\n",
      "Arguments: \n",
      "{\n",
      "  \"transaction\": \"0x6bf1e44641154e1b6d25f8a597d8089465613e46930ea73de9e42c0e7127e15b\"\n",
      "}\n",
      "\u001b[32m************************************************\u001b[0m\n",
      "\n",
      "--------------------------------------------------------------------------------\n",
      "\u001b[35m\n",
      ">>>>>>>> EXECUTING FUNCTION notify_user...\u001b[0m\n",
      "Content-Type: text/plain; charset=\"utf-8\"\n",
      "Content-Transfer-Encoding: 7bit\n",
      "MIME-Version: 1.0\n",
      "Subject: High-risk Transaction Alert\n",
      "From: sender_email@example.com\n",
      "To: receiver_email@example.com\n",
      "\n",
      "0x6bf1e44641154e1b6d25f8a597d8089465613e46930ea73de9e42c0e7127e15b\n",
      "\n",
      "\u001b[33mCritic\u001b[0m (to chat_manager):\n",
      "\n",
      "\u001b[32m***** Response from calling function \"notify_user\" *****\u001b[0m\n",
      "None\n",
      "\u001b[32m********************************************************\u001b[0m\n",
      "\n",
      "--------------------------------------------------------------------------------\n",
      "\u001b[33mAnalyzer\u001b[0m (to chat_manager):\n",
      "\n",
      "The user has been notified about the anomaly in the transaction with the hash \"0x6bf1e44641154e1b6d25f8a597d8089465613e46930ea73de9e42c0e7127e15b\".\n",
      "\n",
      "--------------------------------------------------------------------------------\n",
      "\u001b[33mCritic\u001b[0m (to chat_manager):\n",
      "\n",
      "Great! The user has been notified about the anomaly in the transaction. Now we need to analyze the transaction further to determine the appropriate actions to take.\n",
      "\u001b[32m***** Suggested function Call: analyze_transaction *****\u001b[0m\n",
      "Arguments: \n",
      "{}\n",
      "\u001b[32m********************************************************\u001b[0m\n",
      "\n",
      "--------------------------------------------------------------------------------\n"
     ]
    }
   ],
   "source": [
    "from monitoring_agents2 import AnomalyDetectionAgent\n",
    "\n",
    "agent = AnomalyDetectionAgent()\n",
    "anomalies = agent.detect_anomalies()"
   ]
  },
  {
   "cell_type": "code",
   "execution_count": 2,
   "metadata": {},
   "outputs": [
    {
     "name": "stdout",
     "output_type": "stream",
     "text": [
      "None\n"
     ]
    }
   ],
   "source": [
    "print(anomalies)"
   ]
  }
 ],
 "metadata": {
  "kernelspec": {
   "display_name": ".venv",
   "language": "python",
   "name": "python3"
  },
  "language_info": {
   "codemirror_mode": {
    "name": "ipython",
    "version": 3
   },
   "file_extension": ".py",
   "mimetype": "text/x-python",
   "name": "python",
   "nbconvert_exporter": "python",
   "pygments_lexer": "ipython3",
   "version": "3.10.12"
  }
 },
 "nbformat": 4,
 "nbformat_minor": 2
}
