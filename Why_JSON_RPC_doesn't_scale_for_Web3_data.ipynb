{
  "cells": [
    {
      "cell_type": "markdown",
      "metadata": {
        "colab_type": "text",
        "id": "view-in-github"
      },
      "source": [
        "<a href=\"https://colab.research.google.com/github/harishraisinghani/challenges-web3-json-rpc-scale/blob/main/Why_JSON_RPC_doesn't_scale_for_Web3_data.ipynb\" target=\"_parent\"><img src=\"https://colab.research.google.com/assets/colab-badge.svg\" alt=\"Open In Colab\"/></a>"
      ]
    },
    {
      "cell_type": "markdown",
      "metadata": {
        "id": "ClorcDVqNSDF"
      },
      "source": [
        "# Why JSON-RPC doesn't scale for Web3 data\n",
        "A Code Along to explore fetching wallet token balances using JSON-RPC point queries and the Covalent API\n",
        "\n",
        "## Outline\n",
        "1. What is JSON-RPC and how does it work\n",
        "2. What is a wallet in Web3 (EVM context) and how do they work?\n",
        "3. What is an ERC20 token? How do we create one?\n",
        "4. What is the Covalent API?\n",
        "\n",
        "\n",
        "**Author: Harish Raisinghani, DevRel @ Covalent**. https://twitter.com/harish_yvr\n",
        "\n",
        "## Setup\n",
        "\n",
        "We will be using [Web3.py](https://web3py.readthedocs.io/en/stable/quickstart.html), a comprehensive Python library for interacting with the Ethereum blockchain, in this Code Along. \n",
        "\n",
        "\n",
        "\n",
        "\n",
        "\n",
        "\n",
        "\n",
        "\n"
      ]
    },
    {
      "cell_type": "code",
      "execution_count": null,
      "metadata": {
        "id": "dK8rj_bMejX1"
      },
      "outputs": [
        {
          "ename": "",
          "evalue": "",
          "output_type": "error",
          "traceback": [
            "\u001b[1;31mRunning cells with 'Python 3.8.2 64-bit' requires ipykernel package.\n",
            "\u001b[1;31mRun the following command to install 'ipykernel' into the Python environment. \n",
            "\u001b[1;31mCommand: '/Library/Developer/CommandLineTools/usr/bin/python3 -m pip install ipykernel -U --force-reinstall'"
          ]
        }
      ],
      "source": [
        "pip install web3"
      ]
    },
    {
      "cell_type": "markdown",
      "metadata": {
        "id": "akhkh7Xfefd2"
      },
      "source": [
        "## What is JSON-RPC and how does it work?\n",
        "JSON-RPC is a stateless, light-weight remote procedure call (RPC) protocol which defines several data structures (using JSON as the data format) and how they are processed over various transport methods such as web sockets, http and other message passing environments. See the full spec here: https://www.jsonrpc.org/specification\n",
        "\n",
        "When it comes to reading blockchain data and sending transactions to a blockchain network, the JSON-RPC spec is implemented by every Ethereum and EVM-compatible (e.g. Polygon, BSC, Avalanche C-Chain, Fantom) client. This is why [Ethereum JSON-RPC methods](https://playground.open-rpc.org/?schemaUrl=https://raw.githubusercontent.com/ethereum/execution-apis/assembled-spec/openrpc.json&uiSchema%5BappBar%5D%5Bui:splitView%5D=false&uiSchema%5BappBar%5D%5Bui:input%5D=false&uiSchema%5BappBar%5D%5Bui:examplesDropdown%5D=false) such as `eth_getBalance` can be used the same way on all EVM-compatible blockchains.\n",
        "\n",
        "\n",
        "![Example 1{caption=Figure 1: JSON-RPC data flow}](https://itzone.com.vn/wp-content/uploads/2020/03/a36ff732-6ff7-4076-a86b-1676d5af6c1e.png)\n",
        "\n",
        "\n",
        "The JSON-RPC layer is a 'point-query' interface where data requests for a block or transaction is executed one object at a time so users are unable to query multiple objects at once and cannot batch export data(https://consensys.net/blog/cryptoeconomic-research/covalent-a-decentralized-blockchain-database-and-api/). This bottleneck is a primary reason why JSON-RPC doesn't scale when extracting on-chain data and why tools like the [Covalent API](https://www.covalenthq.com/platform) help address those shortfalls. \n",
        "\n",
        "To use the JSON-RPC layer and query the token balances of a wallet, we need a Web3 provider. There are lots of infrastructure providers out there such as Infura, Ankr, Chainstack, GetBlock and others. For the Ethereum Kovan testnet, we will use [Infura](https://infura.io/).\n",
        "\n",
        "\n",
        "## Set up the Web3 provider\n",
        "The following lines of code are used to set up our Web3 provider using the Infura API:"
      ]
    },
    {
      "cell_type": "code",
      "execution_count": null,
      "metadata": {
        "colab": {
          "base_uri": "https://localhost:8080/"
        },
        "id": "-1zQfZSTNRY8",
        "outputId": "8e45946d-5b96-4078-f203-c8fb6b7f376e"
      },
      "outputs": [
        {
          "data": {
            "text/plain": [
              "True"
            ]
          },
          "execution_count": 2,
          "metadata": {},
          "output_type": "execute_result"
        }
      ],
      "source": [
        "from web3 import Web3\n",
        "\n",
        "kovan_provider = 'https://kovan.infura.io/v3/9aa3d95b3bc440fa88ea12eaa4456161'\n",
        "\n",
        "w3_kovan = Web3(Web3.HTTPProvider(kovan_provider))\n",
        "\n",
        "# Check that it is connected\n",
        "w3_kovan.isConnected()"
      ]
    },
    {
      "cell_type": "markdown",
      "metadata": {
        "id": "XJOjCMO0fj-o"
      },
      "source": [
        "Now let us test a few simple [JSON-RPC calls](https://playground.open-rpc.org/?schemaUrl=https://raw.githubusercontent.com/ethereum/execution-apis/assembled-spec/openrpc.json&uiSchema%5BappBar%5D%5Bui:splitView%5D=false&uiSchema%5BappBar%5D%5Bui:input%5D=false&uiSchema%5BappBar%5D%5Bui:examplesDropdown%5D=false). See how they are mapped in `Web3.py` [here](https://web3py.readthedocs.io/en/stable/web3.eth.html#methods).\n",
        "\n",
        "*   `eth_blockNumber` -> `web3.eth.get_block_number()`\n",
        "*   `eth_gasPrice` -> `web3.eth.gas_price`\n",
        "\n"
      ]
    },
    {
      "cell_type": "code",
      "execution_count": null,
      "metadata": {
        "colab": {
          "base_uri": "https://localhost:8080/"
        },
        "id": "CGyShq6eftPv",
        "outputId": "43287ab0-f6da-46d9-f4f9-bc0ffa557fd6"
      },
      "outputs": [
        {
          "data": {
            "text/plain": [
              "32172164"
            ]
          },
          "execution_count": 3,
          "metadata": {},
          "output_type": "execute_result"
        }
      ],
      "source": [
        "w3_kovan.eth.get_block_number()"
      ]
    },
    {
      "cell_type": "code",
      "execution_count": null,
      "metadata": {
        "colab": {
          "base_uri": "https://localhost:8080/"
        },
        "id": "R03V-c40gZ0H",
        "outputId": "21abebdb-7f20-42f8-fd7d-b4a261de084f"
      },
      "outputs": [
        {
          "data": {
            "text/plain": [
              "2500000007"
            ]
          },
          "execution_count": 4,
          "metadata": {},
          "output_type": "execute_result"
        }
      ],
      "source": [
        "w3_kovan.eth.gas_price # Current gas price in Wei"
      ]
    },
    {
      "cell_type": "markdown",
      "metadata": {
        "id": "GKcWztAuY-qC"
      },
      "source": [
        "## Create a Web3 wallet\n",
        "Wallets are fundamental in Web3 as they serve as a digital identity to access applications. Moreover, they provide *access* to digital assets such as fungible and non-fungible tokens (NFTs). A key point to remember is that a wallet does not actually contain any ether or tokens. \n",
        "\n",
        "At its core, a wallet consists of three components:\n",
        "1. **A public key** which serves as an address to send and receive transactions. Think of a public key as a publicly available bank account that someone can send funds to. The public key is derived from a private key.\n",
        "\n",
        "2. **A private key** (which you should always keep private) which is a 256 character binary (64 digit hexadecimal / 32 bytes) code. The private key is an astronomically large number for good reason and while the public key is derived from it, the reverse is practically impossible (https://www.gemini.com/cryptopedia/public-private-keys-cryptography)\n",
        "\n",
        "3. **A mnenomic (seed phrase)** of usually 12 or 24 words  that can uniquey recreate the private key. It should also always be kept private. See the [BIP-39](https://www.blockplate.com/blogs/blockplate/list-of-bip39-wallets-mnemonic-seed) standard. \n",
        "\n",
        "We are going to use the [`eth_account`](https://eth-account.readthedocs.io/en/stable/eth_account.html#module-eth_account.account) Python library (which was automatically installed with Web3.py) to create local private and public keys. \n",
        "\n",
        "**NOTE: EVERYTHING WE DO HERE IS FOR DEMO PURPOSES SO PLEASE DO NOT USE ANY WALLETS HERE AS YOUR PRODUCTION WALLET!**"
      ]
    },
    {
      "cell_type": "code",
      "execution_count": null,
      "metadata": {
        "colab": {
          "base_uri": "https://localhost:8080/"
        },
        "id": "4CmKRxQFs7sJ",
        "outputId": "1e542de4-b08f-48a7-8d16-3f441889e459"
      },
      "outputs": [
        {
          "name": "stdout",
          "output_type": "stream",
          "text": [
            "My wallet address: 0x2119012deFaBA6c2Cbe60Bc871b3d9a8e1a5001F\n",
            "My wallet mnemonic that I should never share: \"smart clarify laptop code boost decorate figure famous sorry height capable ahead\"\n"
          ]
        }
      ],
      "source": [
        "from eth_account import Account\n",
        "\n",
        "Account.enable_unaudited_hdwallet_features()\n",
        "acct, mnemonic = Account.create_with_mnemonic()\n",
        "\n",
        "wallet_address = acct.address\n",
        "private_key = acct.privateKey\n",
        "\n",
        "print(f'My wallet address: {wallet_address}')\n",
        "print(f'My wallet mnemonic that I should never share: \"{mnemonic}\"')"
      ]
    },
    {
      "cell_type": "markdown",
      "metadata": {
        "id": "csAECTYztppL"
      },
      "source": [
        "So here we now have our public wallet address and our mnemonic that we should never share. We will use this mnemonic to set up our newly created wallet with the MetaMask browser wallet. \n",
        "\n",
        "**NOTE: IF YOU ALREADY HAVE METAMASK INSTALLED, MAKE SURE TO STORE YOUR EXISTING MNEMONIC SOMEWHERE SECURE BEFORE MOVING TO THE NEXT STEP OTHERWISE YOU MIGHT LOSE ACCESS TO YOUR WALLET.**\n",
        "\n",
        "### Bonus:\n",
        "Another way we can create our Web3 wallet out of thin air is by randomly creating our 64 hex / 32 bytes private key and then deriving the public key as follows using Python's [`secrets`](https://docs.python.org/3/library/secrets.html) library:\n"
      ]
    },
    {
      "cell_type": "code",
      "execution_count": null,
      "metadata": {
        "colab": {
          "base_uri": "https://localhost:8080/"
        },
        "id": "OidgZN4_tZH0",
        "outputId": "31f672fd-8ab1-4ea9-b91d-2a498f3d2a1a"
      },
      "outputs": [
        {
          "name": "stdout",
          "output_type": "stream",
          "text": [
            "Wallet address is: 0x6dD88f6F50C110FD7176bd753343eEe4c6166bfa\n",
            "Private key is: 0x5aca1d7a9af183d50f307d795a01f75a450246917a6dd407a97e39f046962a5c\n"
          ]
        }
      ],
      "source": [
        "import secrets\n",
        "priv = secrets.token_hex(32) # 32 random bytes with each byte converted to two hex digits\n",
        "other_private_key = \"0x\" + priv\n",
        "account = Account.from_key(other_private_key)\n",
        "other_wallet_address = account.address\n",
        "print(\"Wallet address is:\", other_wallet_address)\n",
        "print(\"Private key is:\", other_private_key)"
      ]
    },
    {
      "cell_type": "markdown",
      "metadata": {
        "id": "q9JQ9pbFJU1t"
      },
      "source": [
        "## MetaMask wallet reset\n",
        "\n",
        "If you have MetaMask installed, log out and then select *Forgot password*. \n",
        "\n",
        "You will then be prompted with page to reset your wallet using your Secret Recovery Phrase. Paste your entire mnemonic from above into the first field. \n",
        "\n",
        "![Reset MetaMask Wallet{caption=Figure 2: MetaMask reset wallet}](https://metamask.zendesk.com/hc/article_attachments/5998778572315/SRP_entry.png)\n",
        "\n",
        "Set you password and you should now have imported your wallet generated above into your MetaMask!\n",
        "\n",
        "Now that you have connected your wallet, go to https://faucets.chain.link/ and drip yourself some test ETH and LINK tokens for the Ethereum Kovan test network. \n",
        "\n",
        "### Check your wallet balance\n",
        "\n",
        "Now that you have 0.1 ETH (on Kovan test network) accessible by your wallet, let us check the balance\n",
        "\n"
      ]
    },
    {
      "cell_type": "code",
      "execution_count": null,
      "metadata": {
        "colab": {
          "base_uri": "https://localhost:8080/"
        },
        "id": "-DtmvWnfRf6h",
        "outputId": "485a22cb-8289-4e49-8918-cb4d762b04dd"
      },
      "outputs": [
        {
          "data": {
            "text/plain": [
              "100000000000000000"
            ]
          },
          "execution_count": 7,
          "metadata": {},
          "output_type": "execute_result"
        }
      ],
      "source": [
        "w3_kovan.eth.get_balance(wallet_address)"
      ]
    },
    {
      "cell_type": "markdown",
      "metadata": {
        "id": "BBRIMDI6RvM0"
      },
      "source": [
        "You also have 20 test LINK tokens. How do we check the balance of that using JSON-RPC calls?\n",
        "\n",
        "We need to have the deployed LINK token contract address on Kovan as well as its Application Binary Interface (ABI). The ABI is the human-readable representation of a smart contract and defines its methods and structures in JSON format.  \n",
        "\n",
        "This process of fetching first the token contract address and its ABI holds true for any token that you want to get the balance for. \n",
        "\n",
        "*   Chainlink token on Kovan details: https://docs.chain.link/docs/link-token-contracts/#kovan\n",
        "*   Chainlink token ABI: https://etherscan.io/address/0x514910771af9ca656af840dff83e8264ecf986ca#code\n",
        "\n",
        "We can now create an instance of the LINK token contract and call its methods:\n",
        "\n",
        "\n",
        "\n"
      ]
    },
    {
      "cell_type": "code",
      "execution_count": null,
      "metadata": {
        "id": "IEm_2sfkWR1a"
      },
      "outputs": [],
      "source": [
        "kovan_link_address = '0xa36085F69e2889c224210F603D836748e7dC0088'"
      ]
    },
    {
      "cell_type": "code",
      "execution_count": null,
      "metadata": {
        "id": "nWHATmbFYlv7"
      },
      "outputs": [],
      "source": [
        "abi = [{\"constant\":True,\"inputs\":[],\"name\":\"name\",\"outputs\":[{\"name\":\"\",\"type\":\"string\"}],\"payable\":False,\"stateMutability\":\"view\",\"type\":\"function\"},{\"constant\":False,\"inputs\":[{\"name\":\"_spender\",\"type\":\"address\"},{\"name\":\"_value\",\"type\":\"uint256\"}],\"name\":\"approve\",\"outputs\":[{\"name\":\"\",\"type\":\"bool\"}],\"payable\":False,\"stateMutability\":\"nonpayable\",\"type\":\"function\"},{\"constant\":True,\"inputs\":[],\"name\":\"totalSupply\",\"outputs\":[{\"name\":\"\",\"type\":\"uint256\"}],\"payable\":False,\"stateMutability\":\"view\",\"type\":\"function\"},{\"constant\":False,\"inputs\":[{\"name\":\"_from\",\"type\":\"address\"},{\"name\":\"_to\",\"type\":\"address\"},{\"name\":\"_value\",\"type\":\"uint256\"}],\"name\":\"transferFrom\",\"outputs\":[{\"name\":\"\",\"type\":\"bool\"}],\"payable\":False,\"stateMutability\":\"nonpayable\",\"type\":\"function\"},{\"constant\":True,\"inputs\":[],\"name\":\"decimals\",\"outputs\":[{\"name\":\"\",\"type\":\"uint8\"}],\"payable\":False,\"stateMutability\":\"view\",\"type\":\"function\"},{\"constant\":False,\"inputs\":[{\"name\":\"_to\",\"type\":\"address\"},{\"name\":\"_value\",\"type\":\"uint256\"},{\"name\":\"_data\",\"type\":\"bytes\"}],\"name\":\"transferAndCall\",\"outputs\":[{\"name\":\"success\",\"type\":\"bool\"}],\"payable\":False,\"stateMutability\":\"nonpayable\",\"type\":\"function\"},{\"constant\":False,\"inputs\":[{\"name\":\"_spender\",\"type\":\"address\"},{\"name\":\"_subtractedValue\",\"type\":\"uint256\"}],\"name\":\"decreaseApproval\",\"outputs\":[{\"name\":\"success\",\"type\":\"bool\"}],\"payable\":False,\"stateMutability\":\"nonpayable\",\"type\":\"function\"},{\"constant\":True,\"inputs\":[{\"name\":\"_owner\",\"type\":\"address\"}],\"name\":\"balanceOf\",\"outputs\":[{\"name\":\"balance\",\"type\":\"uint256\"}],\"payable\":False,\"stateMutability\":\"view\",\"type\":\"function\"},{\"constant\":True,\"inputs\":[],\"name\":\"symbol\",\"outputs\":[{\"name\":\"\",\"type\":\"string\"}],\"payable\":False,\"stateMutability\":\"view\",\"type\":\"function\"},{\"constant\":False,\"inputs\":[{\"name\":\"_to\",\"type\":\"address\"},{\"name\":\"_value\",\"type\":\"uint256\"}],\"name\":\"transfer\",\"outputs\":[{\"name\":\"success\",\"type\":\"bool\"}],\"payable\":False,\"stateMutability\":\"nonpayable\",\"type\":\"function\"},{\"constant\":False,\"inputs\":[{\"name\":\"_spender\",\"type\":\"address\"},{\"name\":\"_addedValue\",\"type\":\"uint256\"}],\"name\":\"increaseApproval\",\"outputs\":[{\"name\":\"success\",\"type\":\"bool\"}],\"payable\":False,\"stateMutability\":\"nonpayable\",\"type\":\"function\"},{\"constant\":True,\"inputs\":[{\"name\":\"_owner\",\"type\":\"address\"},{\"name\":\"_spender\",\"type\":\"address\"}],\"name\":\"allowance\",\"outputs\":[{\"name\":\"remaining\",\"type\":\"uint256\"}],\"payable\":False,\"stateMutability\":\"view\",\"type\":\"function\"},{\"inputs\":[],\"payable\":False,\"stateMutability\":\"nonpayable\",\"type\":\"constructor\"},{\"anonymous\":False,\"inputs\":[{\"indexed\":True,\"name\":\"from\",\"type\":\"address\"},{\"indexed\":True,\"name\":\"to\",\"type\":\"address\"},{\"indexed\":False,\"name\":\"value\",\"type\":\"uint256\"},{\"indexed\":False,\"name\":\"data\",\"type\":\"bytes\"}],\"name\":\"Transfer\",\"type\":\"event\"},{\"anonymous\":False,\"inputs\":[{\"indexed\":True,\"name\":\"owner\",\"type\":\"address\"},{\"indexed\":True,\"name\":\"spender\",\"type\":\"address\"},{\"indexed\":False,\"name\":\"value\",\"type\":\"uint256\"}],\"name\":\"Approval\",\"type\":\"event\"}]"
      ]
    },
    {
      "cell_type": "code",
      "execution_count": null,
      "metadata": {
        "id": "1EL9ALEcZdGD"
      },
      "outputs": [],
      "source": [
        "link_token = w3_kovan.eth.contract(address=kovan_link_address, abi=abi)"
      ]
    },
    {
      "cell_type": "code",
      "execution_count": null,
      "metadata": {
        "colab": {
          "base_uri": "https://localhost:8080/",
          "height": 35
        },
        "id": "7LiCENkNZmAY",
        "outputId": "f866e977-633f-42f4-b5eb-1ec530d8e722"
      },
      "outputs": [
        {
          "data": {
            "application/vnd.google.colaboratory.intrinsic+json": {
              "type": "string"
            },
            "text/plain": [
              "'LINK'"
            ]
          },
          "execution_count": 11,
          "metadata": {},
          "output_type": "execute_result"
        }
      ],
      "source": [
        "symbol = link_token.functions.symbol().call()\n",
        "symbol"
      ]
    },
    {
      "cell_type": "code",
      "execution_count": null,
      "metadata": {
        "colab": {
          "base_uri": "https://localhost:8080/"
        },
        "id": "eW1l0DimZsqc",
        "outputId": "16aaf88a-7299-47c0-b7c2-035ccd183242"
      },
      "outputs": [
        {
          "data": {
            "text/plain": [
              "20000000000000000000"
            ]
          },
          "execution_count": 12,
          "metadata": {},
          "output_type": "execute_result"
        }
      ],
      "source": [
        "balance = link_token.functions.balanceOf(wallet_address).call()\n",
        "balance"
      ]
    },
    {
      "cell_type": "markdown",
      "metadata": {
        "id": "5dGIf8fObszu"
      },
      "source": [
        "So now we can see pretty quickly the limitations of making JSON-RPC calls to fetch token balances for a wallet address. This is where tools like the Covalent API address those limitations. \n",
        "\n",
        "### Bonus:\n",
        "If you want to deploy you own custom ERC20 token using Web3.py, use the  code provided at the end in the Appendix.\n"
      ]
    },
    {
      "cell_type": "markdown",
      "metadata": {
        "id": "6_TyjNf8AueL"
      },
      "source": [
        "## The Covalent API\n",
        "\n",
        "[Covalent](https://www.covalenthq.com) provides a unified API to bring full transparency and visibility to assets across all blockchains.\n",
        "\n",
        "To get started, sign up for an [API Key](https://www.covalenthq.com/platform). "
      ]
    },
    {
      "cell_type": "code",
      "execution_count": 3,
      "metadata": {
        "id": "G86cskq3Z1yD"
      },
      "outputs": [],
      "source": [
        "API_KEY = 'cqt_rQBk7jfGvkByY7TqQBqbHfrBJKKf'\n",
        "wallet_address = '0x6e19Fc0Ce57081420CA1f60F5eBe46b2c55CC5E0'"
      ]
    },
    {
      "cell_type": "markdown",
      "metadata": {
        "id": "OahdoKgPciNF"
      },
      "source": [
        "Then we use Python's Requests library to make a standard HTTP GET request to the [`Get token balances for address`](https://www.covalenthq.com/docs/api/#/0/Get%20token%20balances%20for%20address/USD/42) API endpoint."
      ]
    },
    {
      "cell_type": "code",
      "execution_count": 12,
      "metadata": {
        "colab": {
          "base_uri": "https://localhost:8080/"
        },
        "id": "Kjxx42HgdAcu",
        "outputId": "62837643-4bfe-49c9-cb16-35fb2bf77951"
      },
      "outputs": [
        {
          "data": {
            "text/plain": [
              "{'data': {'address': '0x171a3ad89cfb7888342f10f4740f72e6f6098a4c',\n",
              "  'updated_at': '2023-10-14T16:28:55.358138539Z',\n",
              "  'next_update_at': '2023-10-14T16:33:55.358139022Z',\n",
              "  'quote_currency': 'USD',\n",
              "  'chain_id': 1,\n",
              "  'chain_name': 'eth-mainnet',\n",
              "  'current_page': 0,\n",
              "  'links': {'prev': None, 'next': None},\n",
              "  'items': [{'block_signed_at': '2023-09-17T04:12:11Z',\n",
              "    'block_height': 18153327,\n",
              "    'block_hash': '0x9bc3e79280aca97eb954a4f8ca9d2189d62f18d2eef0e524fa3e5dff2ee8c465',\n",
              "    'tx_hash': '0x8c2df626221acfd2f3a294e2836933ae8ea125b6ac751e75e6edca8944a61780',\n",
              "    'tx_offset': 109,\n",
              "    'successful': True,\n",
              "    'miner_address': '0x1f9090aae28b8a3dceadf281b0f12828e676c326',\n",
              "    'from_address': '0x6e19fc0ce57081420ca1f60f5ebe46b2c55cc5e0',\n",
              "    'from_address_label': None,\n",
              "    'to_address': '0xa6b71e26c5e0845f74c812102ca7114b6a896ab2',\n",
              "    'to_address_label': None,\n",
              "    'value': '0',\n",
              "    'value_quote': 0.0,\n",
              "    'pretty_value_quote': '$0.00',\n",
              "    'gas_metadata': {'contract_decimals': 18,\n",
              "     'contract_name': 'Ether',\n",
              "     'contract_ticker_symbol': 'ETH',\n",
              "     'contract_address': '0xeeeeeeeeeeeeeeeeeeeeeeeeeeeeeeeeeeeeeeee',\n",
              "     'supports_erc': None,\n",
              "     'logo_url': 'https://www.datocms-assets.com/86369/1669653891-eth.svg'},\n",
              "    'gas_offered': 261619,\n",
              "    'gas_spent': 258640,\n",
              "    'gas_price': 8000000000,\n",
              "    'fees_paid': '2069120000000000',\n",
              "    'gas_quote': 3.3598412347613213,\n",
              "    'pretty_gas_quote': '$3.36',\n",
              "    'gas_quote_rate': 1623.8020195838433}]},\n",
              " 'error': False,\n",
              " 'error_message': None,\n",
              " 'error_code': None}"
            ]
          },
          "execution_count": 12,
          "metadata": {},
          "output_type": "execute_result"
        }
      ],
      "source": [
        "import requests\n",
        "\n",
        "chain_id = 1 # for Kovan\n",
        "safe = '0x171a3ad89cFb7888342f10F4740F72e6F6098A4C'\n",
        "url = f'https://api.covalenthq.com/v1/{chain_id}/address/{wallet_address}/balances_v2/?key={API_KEY}'\n",
        "url2 = f'https://api.covalenthq.com/v1/eth-mainnet/address/{safe}/transactions_v3/?key={API_KEY}&with-safe=true&no-logs=true'\n",
        "r = requests.get(url2)\n",
        "data = r.json()\n",
        "\n",
        "data"
      ]
    },
    {
      "cell_type": "markdown",
      "metadata": {
        "id": "Uvt0JZaLd1gi"
      },
      "source": [
        "We see that the data structure of the API response contains a list of `'items'` that we can iterate through to display the balance (in Wei) of EACH token that this wallet has access too. "
      ]
    },
    {
      "cell_type": "code",
      "execution_count": 6,
      "metadata": {
        "colab": {
          "base_uri": "https://localhost:8080/"
        },
        "id": "e1lYAQ8Bdu2e",
        "outputId": "6a31f826-c94b-41ad-fe9d-9270f476f88b"
      },
      "outputs": [
        {
          "name": "stdout",
          "output_type": "stream",
          "text": [
            "ETH:0.022118553515760944\n",
            "USDC:16.279952\n",
            "REQ:18.4028\n",
            "MM:0.0\n",
            "STORJ:0.0\n"
          ]
        },
        {
          "ename": "TypeError",
          "evalue": "unsupported operand type(s) for ** or pow(): 'int' and 'NoneType'",
          "output_type": "error",
          "traceback": [
            "\u001b[0;31m---------------------------------------------------------------------------\u001b[0m",
            "\u001b[0;31mTypeError\u001b[0m                                 Traceback (most recent call last)",
            "\u001b[1;32m/home/harshil/Projects/hackathons/daata_2023_walletWatcher/Why_JSON_RPC_doesn't_scale_for_Web3_data.ipynb Cell 27\u001b[0m line \u001b[0;36m4\n\u001b[1;32m      <a href='vscode-notebook-cell:/home/harshil/Projects/hackathons/daata_2023_walletWatcher/Why_JSON_RPC_doesn%27t_scale_for_Web3_data.ipynb#X35sZmlsZQ%3D%3D?line=0'>1</a>\u001b[0m tokens \u001b[39m=\u001b[39m data[\u001b[39m'\u001b[39m\u001b[39mdata\u001b[39m\u001b[39m'\u001b[39m][\u001b[39m'\u001b[39m\u001b[39mitems\u001b[39m\u001b[39m'\u001b[39m]\n\u001b[1;32m      <a href='vscode-notebook-cell:/home/harshil/Projects/hackathons/daata_2023_walletWatcher/Why_JSON_RPC_doesn%27t_scale_for_Web3_data.ipynb#X35sZmlsZQ%3D%3D?line=2'>3</a>\u001b[0m \u001b[39mfor\u001b[39;00m token \u001b[39min\u001b[39;00m tokens:\n\u001b[0;32m----> <a href='vscode-notebook-cell:/home/harshil/Projects/hackathons/daata_2023_walletWatcher/Why_JSON_RPC_doesn%27t_scale_for_Web3_data.ipynb#X35sZmlsZQ%3D%3D?line=3'>4</a>\u001b[0m   \u001b[39mprint\u001b[39m(\u001b[39mf\u001b[39m\u001b[39m'\u001b[39m\u001b[39m{\u001b[39;00mtoken[\u001b[39m\"\u001b[39m\u001b[39mcontract_ticker_symbol\u001b[39m\u001b[39m\"\u001b[39m]\u001b[39m}\u001b[39;00m\u001b[39m:\u001b[39m\u001b[39m{\u001b[39;00m\u001b[39mfloat\u001b[39m(token[\u001b[39m\"\u001b[39m\u001b[39mbalance\u001b[39m\u001b[39m\"\u001b[39m])\u001b[39m/\u001b[39m\u001b[39m10\u001b[39;49m\u001b[39m*\u001b[39;49m\u001b[39m*\u001b[39;49mtoken[\u001b[39m\"\u001b[39;49m\u001b[39mcontract_decimals\u001b[39;49m\u001b[39m\"\u001b[39;49m]\u001b[39m}\u001b[39;00m\u001b[39m'\u001b[39m)\n",
            "\u001b[0;31mTypeError\u001b[0m: unsupported operand type(s) for ** or pow(): 'int' and 'NoneType'"
          ]
        }
      ],
      "source": [
        "tokens = data['data']['items']\n",
        "\n",
        "for token in tokens:\n",
        "  print(f'{token[\"contract_ticker_symbol\"]}:{float(token[\"balance\"])/10**token[\"contract_decimals\"]}')"
      ]
    },
    {
      "cell_type": "markdown",
      "metadata": {
        "id": "ntSg5VwBeucc"
      },
      "source": [
        "And that's all you need to do to fetch all the ERC20 tokens using the Covalent API!\n",
        "\n",
        "&nbsp;\n",
        "## Appendix - Deploy your own ERC20 token\n",
        "\n",
        "The following steps walk you through how to deploy your own ERC20 token using Web3.py. \n",
        "\n",
        "First, install the python tool for the `solc` Solidity compiler, [`py-solc-x`](https://pypi.org/project/py-solc-x/)"
      ]
    },
    {
      "cell_type": "code",
      "execution_count": null,
      "metadata": {
        "colab": {
          "base_uri": "https://localhost:8080/"
        },
        "id": "UGWkrix1B9uW",
        "outputId": "3e6f8705-ed7a-4931-f4f7-3fd4e352b0dc"
      },
      "outputs": [
        {
          "name": "stdout",
          "output_type": "stream",
          "text": [
            "Looking in indexes: https://pypi.org/simple, https://us-python.pkg.dev/colab-wheels/public/simple/\n",
            "Collecting py-solc-x\n",
            "  Downloading py_solc_x-1.1.1-py3-none-any.whl (15 kB)\n",
            "Collecting semantic-version<3,>=2.8.1\n",
            "  Downloading semantic_version-2.10.0-py2.py3-none-any.whl (15 kB)\n",
            "Requirement already satisfied: requests<3,>=2.19.0 in /usr/local/lib/python3.7/dist-packages (from py-solc-x) (2.23.0)\n",
            "Requirement already satisfied: urllib3!=1.25.0,!=1.25.1,<1.26,>=1.21.1 in /usr/local/lib/python3.7/dist-packages (from requests<3,>=2.19.0->py-solc-x) (1.24.3)\n",
            "Requirement already satisfied: certifi>=2017.4.17 in /usr/local/lib/python3.7/dist-packages (from requests<3,>=2.19.0->py-solc-x) (2022.5.18.1)\n",
            "Requirement already satisfied: chardet<4,>=3.0.2 in /usr/local/lib/python3.7/dist-packages (from requests<3,>=2.19.0->py-solc-x) (3.0.4)\n",
            "Requirement already satisfied: idna<3,>=2.5 in /usr/local/lib/python3.7/dist-packages (from requests<3,>=2.19.0->py-solc-x) (2.10)\n",
            "Installing collected packages: semantic-version, py-solc-x\n",
            "Successfully installed py-solc-x-1.1.1 semantic-version-2.10.0\n"
          ]
        }
      ],
      "source": [
        "pip install py-solc-x"
      ]
    },
    {
      "cell_type": "code",
      "execution_count": null,
      "metadata": {
        "id": "9DvYOTQdCBTL"
      },
      "outputs": [],
      "source": [
        "import solcx\n",
        "version = solcx.install_solc('latest')"
      ]
    },
    {
      "cell_type": "markdown",
      "metadata": {
        "id": "QmeRFS1sziHR"
      },
      "source": [
        "Next, we use the solidity compiler to compile the ERC20 token contract with our token. \n",
        "\n",
        "You can find the code for a basic implementation of ERC20 tokens [here](https://ethereum.org/en/developers/tutorials/understand-the-erc-20-token-smart-contract/#a-basic-implementation-of-erc-20-tokens).\n",
        "\n",
        "We will assume the filename `MyToken.sol` and the name of your custom contract, `ERC20Basic`, as shown in the code example in the link above. If you change the names, just change them in the code below.  "
      ]
    },
    {
      "cell_type": "code",
      "execution_count": null,
      "metadata": {
        "id": "1kwK5Yo_CG4J"
      },
      "outputs": [],
      "source": [
        "compiled_sol = solcx.compile_files([\"MyToken.sol\"], output_values=[\"abi\", \"bin\"], solc_version=version)\n",
        "compiled_sol.popitem()\n",
        "compiled_sol\n",
        "contract_interface = compiled_sol['MyToken.sol:ERC20Basic']"
      ]
    },
    {
      "cell_type": "markdown",
      "metadata": {
        "id": "rB2LB53X36zs"
      },
      "source": [
        "Now we create our transaction object to sign and broadcast to the Kovan test network. We will get the transaction receipt and address where the contract is deployed. "
      ]
    },
    {
      "cell_type": "code",
      "execution_count": null,
      "metadata": {
        "id": "p_oWlYqfyLpe"
      },
      "outputs": [],
      "source": [
        "token_bytecode = contract_interface['bin']\n",
        "token_abi = contract_interface['abi']\n",
        "\n",
        "MyToken = w3_kovan.eth.contract(abi=token_abi, bytecode=token_bytecode)\n",
        "\n",
        "construct_txn = MyToken.constructor().buildTransaction(\n",
        "    {\n",
        "        'from': wallet_address,\n",
        "        'nonce': w3_kovan.eth.get_transaction_count(wallet_address),\n",
        "    }\n",
        ")\n",
        "\n",
        "tx_create = w3_kovan.eth.account.sign_transaction(construct_txn, private_key)\n",
        "\n",
        "tx_hash = w3_kovan.eth.send_raw_transaction(tx_create.rawTransaction)\n",
        "tx_receipt = w3_kovan.eth.wait_for_transaction_receipt(tx_hash)\n",
        "\n",
        "print(f'Contract deployed at address: { tx_receipt.contractAddress }')"
      ]
    },
    {
      "cell_type": "markdown",
      "metadata": {
        "id": "oOMMZA0L4Pto"
      },
      "source": [
        "Copy the address above to use in the next step.\n",
        "\n",
        "Finally, we create an instance of our newly deployed token contract. "
      ]
    },
    {
      "cell_type": "code",
      "execution_count": null,
      "metadata": {
        "id": "mMlPkBEqyj5Q"
      },
      "outputs": [],
      "source": [
        "token_contract_address = #Address from previous step\n",
        "MyTokenInstance = w3_kovan.eth.contract(address=token_contract_address, abi=abi)"
      ]
    },
    {
      "cell_type": "markdown",
      "metadata": {
        "id": "CZDo4hJQ4a-A"
      },
      "source": [
        "Now you can call the same methods mapping to JSON-RPC calls as we did before:"
      ]
    },
    {
      "cell_type": "code",
      "execution_count": null,
      "metadata": {
        "id": "mta0oxFpyxTH"
      },
      "outputs": [],
      "source": [
        "token_symbol = MyTokenInstance.functions.symbol().call()\n",
        "token_symbol"
      ]
    }
  ],
  "metadata": {
    "colab": {
      "authorship_tag": "ABX9TyPdlPMAWygsugNaGC0nWiBc",
      "collapsed_sections": [],
      "include_colab_link": true,
      "name": "Why JSON-RPC doesn't scale for Web3 data.ipynb",
      "provenance": []
    },
    "kernelspec": {
      "display_name": "Python 3.8.2 64-bit",
      "language": "python",
      "name": "python3"
    },
    "language_info": {
      "codemirror_mode": {
        "name": "ipython",
        "version": 3
      },
      "file_extension": ".py",
      "mimetype": "text/x-python",
      "name": "python",
      "nbconvert_exporter": "python",
      "pygments_lexer": "ipython3",
      "version": "3.10.12"
    },
    "vscode": {
      "interpreter": {
        "hash": "5edc29c2ed010d6458d71a83433b383a96a8cbd3efe8531bc90c4b8a5b8bcec9"
      }
    }
  },
  "nbformat": 4,
  "nbformat_minor": 0
}
